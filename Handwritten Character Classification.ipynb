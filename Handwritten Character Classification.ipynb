{
 "cells": [
  {
   "cell_type": "code",
   "execution_count": 17,
   "metadata": {},
   "outputs": [],
   "source": [
    "from keras.models import Sequential, save_model\n",
    "from keras.layers import Conv2D, MaxPooling2D, ZeroPadding2D, Convolution2D\n",
    "from keras.layers import Activation, Dropout, Flatten, Dense\n",
    "\n",
    "from keras.preprocessing.image import ImageDataGenerator"
   ]
  },
  {
   "cell_type": "code",
   "execution_count": 18,
   "metadata": {
    "collapsed": true
   },
   "outputs": [],
   "source": [
    "inputShape = (128, 128, 1)"
   ]
  },
  {
   "cell_type": "markdown",
   "metadata": {},
   "source": [
    "## CNN Layers"
   ]
  },
  {
   "cell_type": "code",
   "execution_count": 19,
   "metadata": {
    "collapsed": true
   },
   "outputs": [],
   "source": [
    "model = Sequential()\n",
    "model.add(Conv2D(filters = 4, \n",
    "                 kernel_size = (3, 3), \n",
    "                 input_shape= inputShape, \n",
    "                 strides=1))\n",
    "model.add(Activation('relu'))\n",
    "model.add(MaxPooling2D(pool_size=(2, 2)))\n",
    "\n",
    "model.add(Conv2D(8, (3, 3)))\n",
    "model.add(Activation('relu'))\n",
    "model.add(MaxPooling2D(pool_size=(2, 2)))\n",
    "\n",
    "model.add(Conv2D(16, (3, 3)))\n",
    "model.add(Activation('relu'))\n",
    "model.add(Dropout(0.2))\n",
    "model.add(MaxPooling2D(pool_size=(2, 2)))\n",
    "\n",
    "model.add(Conv2D(32, (3, 3)))\n",
    "model.add(Activation('relu'))\n",
    "model.add(MaxPooling2D(pool_size=(2, 2)))\n",
    "\n",
    "model.add(Conv2D(64, (3, 3)))\n",
    "model.add(Activation('relu'))\n",
    "model.add(MaxPooling2D(pool_size=(2, 2)))"
   ]
  },
  {
   "cell_type": "markdown",
   "metadata": {},
   "source": [
    "## FCC Layers"
   ]
  },
  {
   "cell_type": "code",
   "execution_count": 20,
   "metadata": {
    "collapsed": true
   },
   "outputs": [],
   "source": [
    "model.add(Flatten())\n",
    "model.add(Dense(256))\n",
    "model.add(Activation('relu'))\n",
    "model.add(Dropout(0.2))\n",
    "\n",
    "model.add(Dense(128))\n",
    "model.add(Activation('relu'))\n",
    "model.add(Dropout(0.2))\n",
    "\n",
    "model.add(Dense(64))\n",
    "model.add(Activation('relu'))\n",
    "model.add(Dropout(0.2))\n",
    "\n",
    "model.add(Dense(26))\n",
    "model.add(Activation('sigmoid'))"
   ]
  },
  {
   "cell_type": "markdown",
   "metadata": {},
   "source": [
    "## Compile"
   ]
  },
  {
   "cell_type": "code",
   "execution_count": 21,
   "metadata": {},
   "outputs": [
    {
     "name": "stdout",
     "output_type": "stream",
     "text": [
      "_________________________________________________________________\n",
      "Layer (type)                 Output Shape              Param #   \n",
      "=================================================================\n",
      "conv2d_16 (Conv2D)           (None, 126, 126, 4)       40        \n",
      "_________________________________________________________________\n",
      "activation_28 (Activation)   (None, 126, 126, 4)       0         \n",
      "_________________________________________________________________\n",
      "max_pooling2d_16 (MaxPooling (None, 63, 63, 4)         0         \n",
      "_________________________________________________________________\n",
      "conv2d_17 (Conv2D)           (None, 61, 61, 8)         296       \n",
      "_________________________________________________________________\n",
      "activation_29 (Activation)   (None, 61, 61, 8)         0         \n",
      "_________________________________________________________________\n",
      "max_pooling2d_17 (MaxPooling (None, 30, 30, 8)         0         \n",
      "_________________________________________________________________\n",
      "conv2d_18 (Conv2D)           (None, 28, 28, 16)        1168      \n",
      "_________________________________________________________________\n",
      "activation_30 (Activation)   (None, 28, 28, 16)        0         \n",
      "_________________________________________________________________\n",
      "dropout_13 (Dropout)         (None, 28, 28, 16)        0         \n",
      "_________________________________________________________________\n",
      "max_pooling2d_18 (MaxPooling (None, 14, 14, 16)        0         \n",
      "_________________________________________________________________\n",
      "conv2d_19 (Conv2D)           (None, 12, 12, 32)        4640      \n",
      "_________________________________________________________________\n",
      "activation_31 (Activation)   (None, 12, 12, 32)        0         \n",
      "_________________________________________________________________\n",
      "max_pooling2d_19 (MaxPooling (None, 6, 6, 32)          0         \n",
      "_________________________________________________________________\n",
      "conv2d_20 (Conv2D)           (None, 4, 4, 64)          18496     \n",
      "_________________________________________________________________\n",
      "activation_32 (Activation)   (None, 4, 4, 64)          0         \n",
      "_________________________________________________________________\n",
      "max_pooling2d_20 (MaxPooling (None, 2, 2, 64)          0         \n",
      "_________________________________________________________________\n",
      "flatten_4 (Flatten)          (None, 256)               0         \n",
      "_________________________________________________________________\n",
      "dense_13 (Dense)             (None, 256)               65792     \n",
      "_________________________________________________________________\n",
      "activation_33 (Activation)   (None, 256)               0         \n",
      "_________________________________________________________________\n",
      "dropout_14 (Dropout)         (None, 256)               0         \n",
      "_________________________________________________________________\n",
      "dense_14 (Dense)             (None, 128)               32896     \n",
      "_________________________________________________________________\n",
      "activation_34 (Activation)   (None, 128)               0         \n",
      "_________________________________________________________________\n",
      "dropout_15 (Dropout)         (None, 128)               0         \n",
      "_________________________________________________________________\n",
      "dense_15 (Dense)             (None, 64)                8256      \n",
      "_________________________________________________________________\n",
      "activation_35 (Activation)   (None, 64)                0         \n",
      "_________________________________________________________________\n",
      "dropout_16 (Dropout)         (None, 64)                0         \n",
      "_________________________________________________________________\n",
      "dense_16 (Dense)             (None, 26)                1690      \n",
      "_________________________________________________________________\n",
      "activation_36 (Activation)   (None, 26)                0         \n",
      "=================================================================\n",
      "Total params: 133,274\n",
      "Trainable params: 133,274\n",
      "Non-trainable params: 0\n",
      "_________________________________________________________________\n"
     ]
    }
   ],
   "source": [
    "model.compile(loss='categorical_crossentropy',\n",
    "              optimizer='rmsprop',\n",
    "              metrics=['accuracy'])\n",
    "model.summary()"
   ]
  },
  {
   "cell_type": "markdown",
   "metadata": {},
   "source": [
    "## Dataset"
   ]
  },
  {
   "cell_type": "code",
   "execution_count": 22,
   "metadata": {},
   "outputs": [
    {
     "name": "stdout",
     "output_type": "stream",
     "text": [
      "Found 187586 images belonging to 26 classes.\n",
      "Found 20777 images belonging to 26 classes.\n"
     ]
    }
   ],
   "source": [
    "batch_size = 16\n",
    "\n",
    "train_datagen = ImageDataGenerator()\n",
    "\n",
    "test_datagen = ImageDataGenerator()\n",
    "\n",
    "train_generator = train_datagen.flow_from_directory(\n",
    "        'dataset/train',  # this is the target directory\n",
    "        target_size=(128, 128),  # all images will be resized to 150x150\n",
    "        batch_size=batch_size,\n",
    "        color_mode='grayscale',\n",
    "        class_mode='categorical')  # since we use binary_crossentropy loss, we need binary labels\n",
    "\n",
    "validation_generator = test_datagen.flow_from_directory(\n",
    "        'dataset/validation',\n",
    "        target_size=(128, 128),  # all images will be resized to 150x150\n",
    "        batch_size=batch_size,\n",
    "        color_mode='grayscale',\n",
    "        class_mode='categorical')"
   ]
  },
  {
   "cell_type": "markdown",
   "metadata": {},
   "source": [
    "## Train"
   ]
  },
  {
   "cell_type": "code",
   "execution_count": 23,
   "metadata": {},
   "outputs": [
    {
     "name": "stdout",
     "output_type": "stream",
     "text": [
      "Epoch 1/25\n",
      "125/125 [==============================] - 8s 68ms/step - loss: 7.2767 - acc: 0.0440 - val_loss: 3.1843 - val_acc: 0.0462\n",
      "Epoch 2/25\n",
      "125/125 [==============================] - 8s 61ms/step - loss: 3.1417 - acc: 0.0965 - val_loss: 3.0817 - val_acc: 0.1100\n",
      "Epoch 3/25\n",
      "125/125 [==============================] - 8s 61ms/step - loss: 2.9768 - acc: 0.1265 - val_loss: 2.7509 - val_acc: 0.1925\n",
      "Epoch 4/25\n",
      "125/125 [==============================] - 8s 67ms/step - loss: 2.6014 - acc: 0.2265 - val_loss: 2.2667 - val_acc: 0.3538\n",
      "Epoch 5/25\n",
      "125/125 [==============================] - 9s 71ms/step - loss: 2.2505 - acc: 0.3345 - val_loss: 1.9744 - val_acc: 0.4512\n",
      "Epoch 6/25\n",
      "125/125 [==============================] - 8s 66ms/step - loss: 1.8818 - acc: 0.4385 - val_loss: 1.5296 - val_acc: 0.5363\n",
      "Epoch 7/25\n",
      "125/125 [==============================] - 8s 65ms/step - loss: 1.5874 - acc: 0.5225 - val_loss: 1.3269 - val_acc: 0.6025\n",
      "Epoch 8/25\n",
      "125/125 [==============================] - 8s 66ms/step - loss: 1.3629 - acc: 0.5760 - val_loss: 1.0009 - val_acc: 0.7087\n",
      "Epoch 9/25\n",
      "125/125 [==============================] - 8s 65ms/step - loss: 1.1990 - acc: 0.6435 - val_loss: 0.9693 - val_acc: 0.7025\n",
      "Epoch 10/25\n",
      "125/125 [==============================] - 8s 66ms/step - loss: 1.0785 - acc: 0.6750 - val_loss: 0.8307 - val_acc: 0.7450\n",
      "Epoch 11/25\n",
      "125/125 [==============================] - 8s 66ms/step - loss: 0.9287 - acc: 0.7165 - val_loss: 0.7352 - val_acc: 0.7800\n",
      "Epoch 12/25\n",
      "125/125 [==============================] - 9s 69ms/step - loss: 0.8590 - acc: 0.7325 - val_loss: 0.7022 - val_acc: 0.8050\n",
      "Epoch 13/25\n",
      "125/125 [==============================] - 9s 68ms/step - loss: 0.7894 - acc: 0.7730 - val_loss: 0.5900 - val_acc: 0.8163\n",
      "Epoch 14/25\n",
      "125/125 [==============================] - 9s 68ms/step - loss: 0.7692 - acc: 0.7715 - val_loss: 0.5638 - val_acc: 0.8488\n",
      "Epoch 15/25\n",
      "125/125 [==============================] - 8s 66ms/step - loss: 0.7835 - acc: 0.7730 - val_loss: 0.3861 - val_acc: 0.8925\n",
      "Epoch 16/25\n",
      "125/125 [==============================] - 8s 66ms/step - loss: 0.6548 - acc: 0.8105 - val_loss: 0.4294 - val_acc: 0.8675\n",
      "Epoch 17/25\n",
      "125/125 [==============================] - 8s 67ms/step - loss: 0.6485 - acc: 0.8140 - val_loss: 0.4774 - val_acc: 0.8638\n",
      "Epoch 18/25\n",
      "125/125 [==============================] - 8s 68ms/step - loss: 0.6437 - acc: 0.8175 - val_loss: 0.4814 - val_acc: 0.8625\n",
      "Epoch 19/25\n",
      "125/125 [==============================] - 8s 67ms/step - loss: 0.6740 - acc: 0.8200 - val_loss: 0.3776 - val_acc: 0.8838\n",
      "Epoch 20/25\n",
      "125/125 [==============================] - 9s 74ms/step - loss: 0.6400 - acc: 0.8180 - val_loss: 0.4994 - val_acc: 0.8525\n",
      "Epoch 21/25\n",
      "125/125 [==============================] - 8s 67ms/step - loss: 0.6124 - acc: 0.8415 - val_loss: 0.4229 - val_acc: 0.8862\n",
      "Epoch 22/25\n",
      "125/125 [==============================] - 8s 67ms/step - loss: 0.6206 - acc: 0.8380 - val_loss: 0.7671 - val_acc: 0.8075\n",
      "Epoch 23/25\n",
      "125/125 [==============================] - 8s 67ms/step - loss: 0.5831 - acc: 0.8395 - val_loss: 0.3701 - val_acc: 0.8875\n",
      "Epoch 24/25\n",
      "125/125 [==============================] - 9s 69ms/step - loss: 0.5265 - acc: 0.8530 - val_loss: 0.3564 - val_acc: 0.9100\n",
      "Epoch 25/25\n",
      "125/125 [==============================] - 9s 70ms/step - loss: 0.6053 - acc: 0.8490 - val_loss: 0.3415 - val_acc: 0.9062\n"
     ]
    }
   ],
   "source": [
    "history = model.fit_generator(\n",
    "        train_generator,\n",
    "        steps_per_epoch=2000 // batch_size,\n",
    "        epochs=25,\n",
    "        validation_data=validation_generator,\n",
    "        validation_steps=800 // batch_size)\n",
    "model.save_weights('model_1.h5')  # always save your weights after training or during training"
   ]
  },
  {
   "cell_type": "markdown",
   "metadata": {},
   "source": [
    "## Score"
   ]
  },
  {
   "cell_type": "code",
   "execution_count": 24,
   "metadata": {},
   "outputs": [
    {
     "data": {
      "image/png": "[encoded data removed]",
      "text/plain": [
       "<matplotlib.figure.Figure at 0x1198200f0>"
      ]
     },
     "metadata": {},
     "output_type": "display_data"
    },
    {
     "data": {
      "image/png": "[encoded data removed]",
      "text/plain": [
       "<matplotlib.figure.Figure at 0x11b8e4b38>"
      ]
     },
     "metadata": {},
     "output_type": "display_data"
    }
   ],
   "source": [
    "import matplotlib.pyplot as plt\n",
    "import numpy\n",
    "\n",
    "plt.plot(history.history['acc'])\n",
    "plt.plot(history.history['val_acc'])\n",
    "plt.title('model accuracy')\n",
    "plt.ylabel('accuracy')\n",
    "plt.xlabel('epoch')\n",
    "plt.legend(['train', 'test'], loc='upper left')\n",
    "plt.show()\n",
    "# summarize history for loss\n",
    "plt.plot(history.history['loss'])\n",
    "plt.plot(history.history['val_loss'])\n",
    "plt.title('model loss')\n",
    "plt.ylabel('loss')\n",
    "plt.xlabel('epoch')\n",
    "plt.legend(['train', 'test'], loc='upper left')\n",
    "plt.show()"
   ]
  },
  {
   "cell_type": "markdown",
   "metadata": {},
   "source": [
    "## Saving Model"
   ]
  },
  {
   "cell_type": "code",
   "execution_count": 26,
   "metadata": {},
   "outputs": [],
   "source": [
    "model_yaml = model.to_yaml()\n",
    "with open(\"bin/model_1.yaml\", \"w\") as yaml_file:\n",
    "    yaml_file.write(model_yaml)\n",
    "save_model(model, 'bin/model_1.h5')"
   ]
  }
 ],
 "metadata": {
  "kernelspec": {
   "display_name": "Python 3",
   "language": "python",
   "name": "python3"
  },
  "language_info": {
   "codemirror_mode": {
    "name": "ipython",
    "version": 3
   },
   "file_extension": ".py",
   "mimetype": "text/x-python",
   "name": "python",
   "nbconvert_exporter": "python",
   "pygments_lexer": "ipython3",
   "version": "3.6.3"
  }
 },
 "nbformat": 4,
 "nbformat_minor": 2
}
